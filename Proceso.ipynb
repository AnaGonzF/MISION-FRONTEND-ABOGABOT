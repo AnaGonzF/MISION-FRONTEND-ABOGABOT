{
 "cells": [
  {
   "cell_type": "markdown",
   "metadata": {},
   "source": [
    "# Página web ABOGABOT"
   ]
  },
  {
   "cell_type": "markdown",
   "metadata": {},
   "source": [
    "## 1. Problema a resolver\n",
    "En esta primera etapa de la realización de ésta práctica, tomé la información que nos fue entregada por medio del Github de Launch X. Ésta información me contextualizó la problemática, que es la siguiente:"
   ]
  },
  {
   "cell_type": "markdown",
   "metadata": {},
   "source": [
    "\"Un despacho de abogados quiere automatizar las demandas de sus clientes\"."
   ]
  },
  {
   "cell_type": "markdown",
   "metadata": {},
   "source": [
    "Con esto en mente nos brindan la solución, que es la siguiente:"
   ]
  },
  {
   "cell_type": "markdown",
   "metadata": {},
   "source": [
    "\"Esto lo harán a través de una página web llenando un formulario\"."
   ]
  },
  {
   "cell_type": "markdown",
   "metadata": {},
   "source": [
    "Posteriormente, también contamos con una serie de requerimientos, que son los siguientes:"
   ]
  },
  {
   "cell_type": "markdown",
   "metadata": {},
   "source": [
    "o\tAl momento de llenar el formulario, se manda al proceso de pago para finalizar la transacción.\n",
    "\n",
    "o\tPara dar seguimiento a su demanda, el cliente crea una cuenta en la plataforma y verá el seguimiento de cada una de las actualizaciones del proceso legal.\n",
    "\n",
    "o\tEl administrador de sitio recibe la notificación de una nueva demanda y con los datos llenados en el formulario se crea automáticamente el documento legal en formato Word para empezar el proceso.\n",
    "\n",
    "o\tEl administrador recibe el pago y debe ser capaz de verlo en un dashboard para ver la cantidad de ingresos recibidos.\n",
    "\n",
    "o\tEl administrador actualiza el proceso de demanda y agrega comentarios en cada paso del proceso.\n",
    "\n",
    "o\tAl usuario le llegan correos de notificación para saber el avance de su proceso.\n",
    "\n",
    "o\tLa página debe ser responsive para poderla ver desde el celular.\n",
    "\n",
    "o\tLa preferencia de colores del cliente es azul marino y blanco, pero acepta propuestas."
   ]
  },
  {
   "cell_type": "markdown",
   "metadata": {},
   "source": [
    "### 1.1 Toma de requerimientos"
   ]
  },
  {
   "cell_type": "markdown",
   "metadata": {},
   "source": [
    "Además de los requerimientos iniciales, también necesitamos tomar requerimientos más específicos, los requisitos que llené fueron:"
   ]
  },
  {
   "cell_type": "markdown",
   "metadata": {},
   "source": [
    "o\tAcerca de la empresa\n",
    "\n",
    "o\tDatos del responsable del desarrollo de la página web\n",
    "\n",
    "o\tTipo de desarrollo\n",
    "\n",
    "o\tBase de datos\n",
    "\n",
    "o\tLenguaje\n",
    "\n",
    "o\t Fecha tentativo de inicio del desarrollo del sitio web"
   ]
  },
  {
   "cell_type": "markdown",
   "metadata": {},
   "source": [
    "Además de estos requerimientos específicos, también realicé la toma de requerimientos detallados:"
   ]
  },
  {
   "cell_type": "markdown",
   "metadata": {},
   "source": [
    "o\tDelinear objetivos del sitio web\n",
    "\n",
    "o\tAdd-ons\n",
    "\n",
    "o\tUser experience (UX)\n",
    "\n",
    "o\tManual de identidad\n",
    "\n",
    "o\tCompetidores\n",
    "\n",
    "o\tSitios web que se consideren como inspiración para el diseño web\n",
    "\n",
    "o\tEstilo e la nueva imagen pública del sitio web\n",
    "\n",
    "o\tFotografía\n",
    "\n",
    "o\tVideo\n",
    "\n",
    "o\tLogotipo\n",
    "\n",
    "o\tTipografía\n",
    "\n",
    "o\tColores\n",
    "\n",
    "o\tContenido del sitio web\n",
    "\n",
    "o\tMarketing para dar a conocer el nuevo sitio web\n",
    "\n",
    "o\tDefine tu audiencia (Aunque esta será tocada aún más a fondo)\n",
    "\n",
    "o\tPasarela de pago\n",
    "\n",
    "o\t¿Existe una o más tiendas físicas?\n",
    "\n",
    "o\tPropuesta de dominios\n",
    "\n",
    "o\tFlujo del sitio web (sitemap)\n",
    "\n",
    "o\tPaíses donde se venderá el servicio\n",
    "\n",
    "o\tPrivacidad\n",
    "\n",
    "o\tIdioma"
   ]
  },
  {
   "cell_type": "markdown",
   "metadata": {},
   "source": [
    "Link para ver la toma de requerimientos completa: https://github.com/AnaGonzF/MISION-FRONTEND-ABOGABOT/blob/main/ABOGABOT%20Requerimientos.ipynb"
   ]
  },
  {
   "cell_type": "markdown",
   "metadata": {},
   "source": [
    "## 2. Investigación"
   ]
  },
  {
   "cell_type": "markdown",
   "metadata": {},
   "source": [
    "En este paso realicé una pequeña investigación en torno a los diferentes sitios web que existen sobre servicios de abogados. Ésta pequeña investigación tenía dos objetivos principales, el primero es conocer a la competencia y el segundo es conocer más acerca de los servicios de abogados que ofrecen éstas páginas y tener una idea más clara de lo que contendrá el sitio web.\n",
    "\n",
    "Sumado a esto, también investigué sobre los servicios de abogados, despachos jurídicos, trámites, etc., que podrían estar en una página web, me ayudé de varios sitios para recabar información necesaria y así tener un sitio con servicios reales (a pesar de ser una práctica solamente)."
   ]
  },
  {
   "cell_type": "markdown",
   "metadata": {},
   "source": [
    "Aquí dejo una lista de algunas páginas que usé para ésta etapa:"
   ]
  },
  {
   "cell_type": "markdown",
   "metadata": {},
   "source": [
    "o\thttps://abogadosceji.com.mx/\n",
    "\n",
    "o\thttps://www.elmundofinanciero.com/noticia/89706/empresas/que-servicios-ofrece-un-despacho-de-abogados.html\n",
    "\n",
    "o\thttp://aym-abogados.com.mx/servicios-de-abogados\n",
    "\n",
    "o\thttps://business.tutsplus.com/tutorials/define-a-target-audience--cms-29368\n",
    "\n",
    "o\thttps://juridicomartinez.com/derecho-penal.html?msclkid=f673ead0af511a2d5dab88ce25cc43c0\n",
    "\n",
    "o\thttps://www.abogadosenmonterrey.com.mx/\n",
    "\n",
    "o\thttps://www.creel.mx/\n",
    "\n",
    "o\thttps://despachojuridico.org/\n",
    "\n",
    "o\thttps://blog.conducetuempresa.com/2011/09/que-tipo-de-empresa-estoy-manejando.html"
   ]
  },
  {
   "cell_type": "markdown",
   "metadata": {},
   "source": [
    "### 2.1 Buyer Persona"
   ]
  },
  {
   "cell_type": "markdown",
   "metadata": {},
   "source": [
    "En esta parte de la investigación, realicé el formato del buyer persona en Adobe Ilustrator, esto para reforzar el sentido de usuario, sus intereses, quién es, qué usa, qué medios tiene, a qué se dedica, etc., teniendo así un mejor y más completo acercamiento al uso que el usuario podría darle al sitio."
   ]
  },
  {
   "cell_type": "markdown",
   "metadata": {},
   "source": [
    "Link para ver el buyer persona: https://github.com/AnaGonzF/MISION-FRONTEND-ABOGABOT/blob/main/Buyer%20Persona%20ABOGABOT.png"
   ]
  },
  {
   "cell_type": "markdown",
   "metadata": {},
   "source": [
    "### 2.2 Público Objetivo"
   ]
  },
  {
   "cell_type": "markdown",
   "metadata": {},
   "source": [
    " Así como el buyer persona, también me dediqué a rellenar el formato de target audience en Miro, para especializar tanto el flujo como el diseño de la página web pensando en este público, en sus necesidades, intereses, habilidades, qué les gustaría ver, cómo la utilizarían, qué tipo de problemas podrían llegar a tener, etc."
   ]
  },
  {
   "cell_type": "markdown",
   "metadata": {},
   "source": [
    "Link del Miro donde realicé el formato del público objetivo: https://miro.com/app/board/uXjVOJb0a-E=/?invite_link_id=276321107347"
   ]
  },
  {
   "cell_type": "markdown",
   "metadata": {},
   "source": [
    "Link en GitHub: https://github.com/AnaGonzF/MISION-FRONTEND-ABOGABOT/blob/main/P%C3%BAblico%20objetivo%20ABOGABOT.png"
   ]
  },
  {
   "cell_type": "markdown",
   "metadata": {},
   "source": [
    "## 3. Conceptualización"
   ]
  },
  {
   "cell_type": "markdown",
   "metadata": {},
   "source": [
    "Ya con todos los datos obtenidos, comencé con la parte de conceptualización. En ésta etapa lo primero que realicé fue la identidad gráfica para la página web."
   ]
  },
  {
   "cell_type": "markdown",
   "metadata": {},
   "source": [
    "### 3.1 Realización de logotipo"
   ]
  },
  {
   "cell_type": "markdown",
   "metadata": {},
   "source": [
    "El proceso lo hice en corto tiempo (debido a que no contaba con mucho) por lo que el resultado final tiene muchas mejoras a realizar. Primero hice una recopilación de logotipos de páginas y despachos de abogados, así podría observar los colores manejados, las formas, los tamaños, etc., por lo que al final llegué a la conclusión de que la mayoría usa una balanza (en representación de la justicia), quise ocupar ese elemento, por lo que busqué referencias de balanzas para hacer una abstracción. Durante el proceso recordé que la primer imagen que obtengo al pensar en un caso de demandas es un juez con su mazo, así que decidí colocar un mazo de juez como torre o base de la balanza. El concepto presente en todo el proceso fue el de elegancia."
   ]
  },
  {
   "cell_type": "markdown",
   "metadata": {},
   "source": [
    "Posteriormente, a la balanza le cambié un poco las formas rectas por formas más orgánicas sin dejar de lado el concepto elegante, así que solo algunas curvas en los estrbillos y platillos de la balanza hicieron una vista diferente. En el caso de los platillos les di formas de A y b (en derecha e izquierda respectivamente) para que hicieran las letras principales de la palabra AbogaBot."
   ]
  },
  {
   "cell_type": "markdown",
   "metadata": {},
   "source": [
    "### 3.2 Selección de la paleta de colores"
   ]
  },
  {
   "cell_type": "markdown",
   "metadata": {},
   "source": [
    "Después de tener el logotipo, fue la hora de seleccionar la paleta de colores. En los requerimientos iniciales se mencionó que al cliente le gustaría un color azul marino para la página (aunque aceptaba propuestas) y decidí tomar ese color como el principal. La paleta escogida es una complementaria al contener azul y amarillo (también seleccioné un color burgoña pero no fue utilizado)."
   ]
  },
  {
   "cell_type": "markdown",
   "metadata": {},
   "source": [
    "Links en GitHub para observar el logotipo y paleta de color: \n",
    "\n",
    "https://github.com/AnaGonzF/MISION-FRONTEND-ABOGABOT/blob/main/ABOGABOT%20Composici%C3%B3n%20logo%201.png\n",
    "\n",
    "https://github.com/AnaGonzF/MISION-FRONTEND-ABOGABOT/blob/main/ABOGABOT%20LOGO%20composici%C3%B3n%20logo%202.png"
   ]
  },
  {
   "cell_type": "markdown",
   "metadata": {},
   "source": [
    "## 4. Diseño de la arquitectura de solución"
   ]
  },
  {
   "cell_type": "markdown",
   "metadata": {},
   "source": [
    "Posteriormente, comencé ahora sí con el diseño de la arquitectura de la página."
   ]
  },
  {
   "cell_type": "markdown",
   "metadata": {},
   "source": [
    "### 4.1 Sitemap o mapa de flujo"
   ]
  },
  {
   "cell_type": "markdown",
   "metadata": {},
   "source": [
    "En esta etapa desarrollé un sitema o mapa de flujo del website de ABOGABOT. Iniciando en la homepage, decidí dividirlo en 5 flujos: "
   ]
  },
  {
   "cell_type": "markdown",
   "metadata": {},
   "source": [
    "o\tYo\n",
    "\n",
    "o\tServicios\n",
    "\n",
    "o\tSoporte\n",
    "\n",
    "o\tCorporativo\n",
    "\n",
    "o\tNoticias"
   ]
  },
  {
   "cell_type": "markdown",
   "metadata": {},
   "source": [
    "Después de escoger las secciones de la pagina, decidí realizar la subdivisión de éstas."
   ]
  },
  {
   "cell_type": "markdown",
   "metadata": {},
   "source": [
    "Para la división **Yo**:\n",
    "\n",
    "o\tMi perfil\n",
    "\n",
    "o\tMis contrataciones\n",
    "\n",
    "o\tMis trámites\n",
    "\n",
    "o\tMis métodos de pago\n",
    "\n",
    "o\tMi dashboard\n",
    "\n",
    "o\tAjustes de la cuenta\n",
    "\n",
    "o\tCerrar sesión"
   ]
  },
  {
   "cell_type": "markdown",
   "metadata": {},
   "source": [
    "Para la división **Servicios**:\n",
    "\n",
    "o\tAsesoría / Consultoria\n",
    "\n",
    "o\tPlaneación\n",
    "\n",
    "o\tAuditoría\n",
    "\n",
    "o\tGestoría\n",
    "\n",
    "o\tFiscal\n",
    "\n",
    "o\tSeguridad Social\n",
    "\n",
    "o\tAdministrativo\n",
    "\n",
    "o\tComercio Exterior / Aduanero\n",
    "\n",
    "o\tConstitucional / Amparo\n",
    "\n",
    "o\t Mercantil\n",
    "\n",
    "o\tPropiedad Intelectual\n",
    "\n",
    "o\tDefensa / Litigio"
   ]
  },
  {
   "cell_type": "markdown",
   "metadata": {},
   "source": [
    "Para la división **Soporte**:\n",
    "\n",
    "o\tPreguntas Frecuentes\n",
    "\n",
    "o\tSolicitar ayuda"
   ]
  },
  {
   "cell_type": "markdown",
   "metadata": {},
   "source": [
    "Para la división **Corporativo**:\n",
    "\n",
    "o\tSobre Nosotros\n",
    "\n",
    "o\tAdministración\n",
    "\n",
    "o\tContacto\n",
    "\n",
    "o\tEmpleo\n",
    "\n",
    "o\tInversores"
   ]
  },
  {
   "cell_type": "markdown",
   "metadata": {},
   "source": [
    "Para la división **Noticias**:\n",
    "\n",
    "o\tBlog\n",
    "\n",
    "o\tArchivo\n"
   ]
  },
  {
   "cell_type": "markdown",
   "metadata": {},
   "source": [
    "Link del Miro donde realicé el sitemap: https://miro.com/app/board/uXjVOJb0a-E=/?invite_link_id=276321107347"
   ]
  },
  {
   "cell_type": "markdown",
   "metadata": {},
   "source": [
    "Link en GitHub para ver el sitemap: https://github.com/AnaGonzF/MISION-FRONTEND-ABOGABOT/blob/main/Sitemap%20ABOGABOT.png"
   ]
  },
  {
   "cell_type": "markdown",
   "metadata": {},
   "source": [
    "## 5. Configuración"
   ]
  },
  {
   "cell_type": "markdown",
   "metadata": {},
   "source": [
    "### 5.1 Bocetos"
   ]
  },
  {
   "cell_type": "markdown",
   "metadata": {},
   "source": [
    "Como parte final de esta etapa, tuve una sesión para realizar bocetos de lo que sería el aspecto visual de la página de ABOGABOT, estos bocetos rápidos los realicé a mano alzada y en hojas de papel, como todo proceso de bocetaje, plasmé todas las ideas que obtuve sobre las diferentes secciones para posteriormente realizar los Wireframes. \n",
    "\n",
    "En total realicé la cantidad de 10 bocetos rápidos y decidí llevar al siguiente paso solo dos de ellos ya que no contaba con el tiempo sufiente para realizar más."
   ]
  },
  {
   "cell_type": "markdown",
   "metadata": {},
   "source": [
    "### 5.2 Wireframes"
   ]
  },
  {
   "cell_type": "markdown",
   "metadata": {},
   "source": [
    "Después de la selección de bocetos, realicé los wireframes correspondientes, uno de ellos fue del homepage en versión de escritorio y el segundo fue también del homepage pero en su versión de celular."
   ]
  },
  {
   "cell_type": "markdown",
   "metadata": {},
   "source": [
    "Links en GitHub para ver los Wireframes:\n",
    "\n",
    "Desktop: https://github.com/AnaGonzF/MISION-FRONTEND-ABOGABOT/blob/main/Wireframe%20desktop.png\n",
    "\n",
    "Mobile: https://github.com/AnaGonzF/MISION-FRONTEND-ABOGABOT/blob/main/Wireframe%20mobile.png"
   ]
  },
  {
   "cell_type": "markdown",
   "metadata": {},
   "source": [
    "### 5.3 User Interface (UI)"
   ]
  },
  {
   "cell_type": "markdown",
   "metadata": {},
   "source": [
    "Al final, realicé los UI en figma para poder aplicar ventanas desplegables desde el botón de haburguesa ubicada en la parte superior izquierda (en ambas versiones), aplicando toda la investigación, requerimientos, estilos, paleta de color, logotipos e identidad gráfica en general anteriomente establecida."
   ]
  },
  {
   "cell_type": "markdown",
   "metadata": {},
   "source": [
    "Link del prototipo en Figma: https://www.figma.com/proto/XnDFIyoTsp6ee5VDnh9SV4/ABOGABOT?node-id=3%3A3&scaling=scale-down-width&page-id=0%3A1&starting-point-node-id=3%3A3&show-proto-sidebar=1"
   ]
  },
  {
   "cell_type": "markdown",
   "metadata": {},
   "source": [
    "Links en GitHub para ver los UI:\n",
    "\n",
    "Desktop: https://github.com/AnaGonzF/MISION-FRONTEND-ABOGABOT/blob/main/Interfaz%20de%20usuario%20(UI)%20desktop.png\n",
    "\n",
    "Mobile: https://github.com/AnaGonzF/MISION-FRONTEND-ABOGABOT/blob/main/Interfaz%20de%20usuario%20(UI)%20mobile.png"
   ]
  },
  {
   "cell_type": "markdown",
   "metadata": {},
   "source": [
    "## 6. Conclusiones"
   ]
  },
  {
   "cell_type": "markdown",
   "metadata": {},
   "source": [
    "Ésta práctica a pesar de ser ficticia, implicó un buen reto para realizarlo en poco tiempo, al tener solo algunos momentos libres a la semana se me complicó un poco el proceso, por ello considero que los entregables al día de hoy no cumplen varios requerimientos específicos de diseño, los que más rescato son los siguientes:"
   ]
  },
  {
   "cell_type": "markdown",
   "metadata": {},
   "source": [
    "Por parte de la **identidad gráfica**:\n",
    "\n",
    "En esta etapa, a pesar de jugar un rato con las formas, colores, tipografías, etc., considero que hay algunas especificaciones que el logotipo no cumple, como por ejemplo que es muy fino y poco contrastante, por lo que fácilmente podría perderse y más cuando el tamaño se reduce. \n",
    "\n",
    "Por parte del **User Interface**:\n",
    "\n",
    "En el caso de la versión para escritorio, considero que los elementos son demasiado grandes, por lo que el espacio y retícula de la página no se están aprovechando bien e incluso al momento de utilizar la página puede ser algo molesto tener elementos tan grandes, así que afecta directamente al User Experience."
   ]
  },
  {
   "cell_type": "markdown",
   "metadata": {},
   "source": [
    "A pesar de todo, me quedo con la gran experiencia y la obtención de aprendizaje nuevo gracias a la práctica."
   ]
  }
 ],
 "metadata": {
  "interpreter": {
   "hash": "98258d0bc3300054d9b55e2ce074a123e62cb3c4388b239b49a741802cf1bf32"
  },
  "kernelspec": {
   "display_name": "Python 3.10.2 64-bit",
   "language": "python",
   "name": "python3"
  },
  "language_info": {
   "name": "python",
   "version": "3.10.2"
  },
  "orig_nbformat": 4
 },
 "nbformat": 4,
 "nbformat_minor": 2
}
